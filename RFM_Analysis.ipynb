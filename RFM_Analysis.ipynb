{
  "nbformat": 4,
  "nbformat_minor": 0,
  "metadata": {
    "colab": {
      "private_outputs": true,
      "provenance": [],
      "mount_file_id": "1JGNlLxHb8fjyxrb88aE24Oau4_q99U4n",
      "authorship_tag": "ABX9TyNtLT1Wkt5R/jCXQSI8C4IO",
      "include_colab_link": true
    },
    "kernelspec": {
      "name": "python3",
      "display_name": "Python 3"
    },
    "language_info": {
      "name": "python"
    }
  },
  "cells": [
    {
      "cell_type": "markdown",
      "metadata": {
        "id": "view-in-github",
        "colab_type": "text"
      },
      "source": [
        "<a href=\"https://colab.research.google.com/github/elifftosunn/RFM-Customers-Analysis/blob/main/RFM_Analysis.ipynb\" target=\"_parent\"><img src=\"https://colab.research.google.com/assets/colab-badge.svg\" alt=\"Open In Colab\"/></a>"
      ]
    },
    {
      "cell_type": "code",
      "execution_count": null,
      "metadata": {
        "id": "5JYtNSlCvMxS"
      },
      "outputs": [],
      "source": [
        "from google.colab import drive\n",
        "drive.mount(\"/content/drive\")"
      ]
    },
    {
      "cell_type": "code",
      "source": [
        "import pandas as pd\n",
        "import numpy as np\n",
        "import datetime as dt\n",
        "import matplotlib.pyplot as plt\n",
        "import seaborn as sns"
      ],
      "metadata": {
        "id": "U31AX4fwvbXt"
      },
      "execution_count": null,
      "outputs": []
    },
    {
      "cell_type": "code",
      "source": [
        "df = pd.read_csv(\"/content/drive/MyDrive/RFM/datas/OnlineRetail.csv\",encoding= 'unicode_escape')\n",
        "df.head()"
      ],
      "metadata": {
        "id": "IenLAR6CvioV"
      },
      "execution_count": null,
      "outputs": []
    },
    {
      "cell_type": "code",
      "source": [
        "df.info()"
      ],
      "metadata": {
        "id": "Pomgw1yxvpox"
      },
      "execution_count": null,
      "outputs": []
    },
    {
      "cell_type": "code",
      "source": [
        "df.drop([\"CustomerID\"], axis = 1).describe()"
      ],
      "metadata": {
        "id": "KdVq3XdJq8Ro"
      },
      "execution_count": null,
      "outputs": []
    },
    {
      "cell_type": "code",
      "source": [
        "df.shape, df.duplicated().sum()"
      ],
      "metadata": {
        "id": "Z8N_JJiNv90-"
      },
      "execution_count": null,
      "outputs": []
    },
    {
      "cell_type": "code",
      "source": [
        "# remove duplicate values from dataset\n",
        "df = df.drop_duplicates()\n",
        "df.shape"
      ],
      "metadata": {
        "id": "FtnJ_Gx4v2wN"
      },
      "execution_count": null,
      "outputs": []
    },
    {
      "cell_type": "code",
      "source": [
        "df.isnull().sum().sort_values(ascending=False)"
      ],
      "metadata": {
        "id": "WsBvZprhvtUQ"
      },
      "execution_count": null,
      "outputs": []
    },
    {
      "cell_type": "code",
      "source": [
        "# remove NaN values from dataset\n",
        "df = df.dropna(subset=['CustomerID'])\n",
        "df.shape"
      ],
      "metadata": {
        "id": "QZUkO9Cawkfm"
      },
      "execution_count": null,
      "outputs": []
    },
    {
      "cell_type": "code",
      "source": [
        "df.isnull().sum().sort_values(ascending=False)"
      ],
      "metadata": {
        "id": "K3G70HTa1Ez_"
      },
      "execution_count": null,
      "outputs": []
    },
    {
      "cell_type": "code",
      "source": [
        "# convert datetime\n",
        "df[\"InvoiceDate\"] = pd.to_datetime(df[\"InvoiceDate\"])"
      ],
      "metadata": {
        "id": "mIaC3_ZxwvCy"
      },
      "execution_count": null,
      "outputs": []
    },
    {
      "cell_type": "code",
      "source": [
        "# remove Quantity and UnitPrice negative values from dataset\n",
        "df = df.loc[df.Quantity > 0]\n",
        "df = df.loc[df.UnitPrice > 0]\n",
        "df.shape"
      ],
      "metadata": {
        "id": "X4fRLKyXw_md"
      },
      "execution_count": null,
      "outputs": []
    },
    {
      "cell_type": "code",
      "source": [
        "# calculate total price\n",
        "df[\"Revenue\"] = df[\"Quantity\"]*df[\"UnitPrice\"]"
      ],
      "metadata": {
        "id": "2T2Wt95h7PPh"
      },
      "execution_count": null,
      "outputs": []
    },
    {
      "cell_type": "code",
      "source": [
        "df[\"Year\"] = df.InvoiceDate.apply(lambda x: x.year)\n",
        "df[\"Month\"] = df.InvoiceDate.apply(lambda x: x.month)\n",
        "df[\"Day\"] = df.InvoiceDate.apply(lambda x: x.day)"
      ],
      "metadata": {
        "id": "DgFJcq2QIuht"
      },
      "execution_count": null,
      "outputs": []
    },
    {
      "cell_type": "code",
      "source": [
        "#creating Year-Month field for the ease of reporting and visualization\n",
        "df['InvoiceYearMonth'] = df['InvoiceDate'].map(lambda date: str(date.year)+\"-\" +str(date.month))"
      ],
      "metadata": {
        "id": "Hu0rNv3fVcRz"
      },
      "execution_count": null,
      "outputs": []
    },
    {
      "cell_type": "code",
      "source": [
        "plt.figure(figsize = (25,8))\n",
        "sns.lineplot(data=df, x=\"InvoiceYearMonth\", y=\"Revenue\")\n",
        "plt.title(\"Monthly Revenue\", fontsize = 20)\n",
        "plt.show()"
      ],
      "metadata": {
        "id": "FVl6PK_mKLEp"
      },
      "execution_count": null,
      "outputs": []
    },
    {
      "cell_type": "code",
      "source": [
        "# using pct_change() function to see monthly percentage change\n",
        "df['MonthlyGrowth'] = df['Revenue'].pct_change()\n",
        "df.MonthlyGrowth"
      ],
      "metadata": {
        "id": "F1c3yH9yNEBv"
      },
      "execution_count": null,
      "outputs": []
    },
    {
      "cell_type": "code",
      "source": [
        "df.to_csv(\"/content/drive/MyDrive/RFM/datas/fe_retail_data.csv\", index=False)"
      ],
      "metadata": {
        "id": "rGFUX8M3vlm1"
      },
      "execution_count": null,
      "outputs": []
    },
    {
      "cell_type": "code",
      "source": [
        "plt.figure(figsize = (25,8))\n",
        "sns.lineplot(data=df, x=\"Month\", y=\"MonthlyGrowth\")\n",
        "plt.title(\"Montly Growth Rate\", fontsize = 20)\n",
        "plt.show()"
      ],
      "metadata": {
        "id": "f-0f5Do0Uc7W"
      },
      "execution_count": null,
      "outputs": []
    },
    {
      "cell_type": "markdown",
      "source": [
        "# ONLY UK CUSTOMERS"
      ],
      "metadata": {
        "id": "mQ6cIAIgtQWw"
      }
    },
    {
      "cell_type": "code",
      "source": [
        "df.loc[df.Country == \"United Kingdom\"].CustomerID.nunique()/df.CustomerID.nunique()"
      ],
      "metadata": {
        "id": "KKFBG6M0xGu2"
      },
      "execution_count": null,
      "outputs": []
    },
    {
      "cell_type": "markdown",
      "source": [
        "**90% of the data consists of UK**"
      ],
      "metadata": {
        "id": "J_K_cGEqxjLi"
      }
    },
    {
      "cell_type": "code",
      "source": [
        "# Creating a new dataframe with UK customers only\n",
        "df_uk = df.query(\"Country=='United Kingdom'\").reset_index(drop=True)\n",
        "df_uk"
      ],
      "metadata": {
        "id": "-t7qkhuvTTE3"
      },
      "execution_count": null,
      "outputs": []
    },
    {
      "cell_type": "code",
      "source": [
        "#creating monthly active customers dataframe by counting unique Customer IDs\n",
        "df_uk_monthly_active = df_uk.groupby('InvoiceYearMonth')['CustomerID'].nunique().reset_index()\n",
        "\n",
        "plt.figure(figsize = (25,8))\n",
        "sns.barplot(data = df_uk_monthly_active, x = \"InvoiceYearMonth\", y = \"CustomerID\")\n",
        "plt.title(\"plt Dataframe\", fontsize = 14)\n",
        "plt.show()"
      ],
      "metadata": {
        "id": "eU7lOxccTYU4"
      },
      "execution_count": null,
      "outputs": []
    },
    {
      "cell_type": "code",
      "source": [
        "df_uk_monthly_active = df_uk.groupby('InvoiceYearMonth')['CustomerID'].nunique().reset_index()\n",
        "df_uk_monthly_active.to_csv(\"/content/drive/MyDrive/RFM/datas/df_uk_monthly_active.csv\", index = False)"
      ],
      "metadata": {
        "id": "ekrWowLI1SOP"
      },
      "execution_count": null,
      "outputs": []
    },
    {
      "cell_type": "markdown",
      "source": [
        "**In the 11th month of 2011, there are the highest number of unique customers. So there are 1505 unique customers.**"
      ],
      "metadata": {
        "id": "9GNdIoTPXT9Z"
      }
    },
    {
      "cell_type": "code",
      "source": [
        "df_uk_monthly_active.sort_values(\"CustomerID\", ascending=False)"
      ],
      "metadata": {
        "id": "RNhN036XXTPF"
      },
      "execution_count": null,
      "outputs": []
    },
    {
      "cell_type": "code",
      "source": [
        "# calculate total Quantity by month then visualization\n",
        "sumQuantityByMonth = df_uk.groupby(\"InvoiceYearMonth\")[\"Quantity\"].sum().reset_index()\n",
        "\n",
        "plt.figure(figsize = (25,8))\n",
        "sns.barplot(data = sumQuantityByMonth, x = \"InvoiceYearMonth\", y = \"Quantity\")\n",
        "plt.title(\"Monthly Total of Order\", fontsize = 14)\n",
        "plt.show()"
      ],
      "metadata": {
        "id": "wKnOt2G5TTLx"
      },
      "execution_count": null,
      "outputs": []
    },
    {
      "cell_type": "code",
      "source": [
        "# create a new dataframe for average revenue by taking the mean of it\n",
        "df_uk.groupby(\"InvoiceYearMonth\")[\"Revenue\"].mean().reset_index()"
      ],
      "metadata": {
        "id": "7hmmHIASpTgb"
      },
      "execution_count": null,
      "outputs": []
    },
    {
      "cell_type": "code",
      "source": [
        "meanRevenueByMonth = df_uk.groupby(\"Month\")[\"Revenue\"].mean().reset_index()\n",
        "plt.figure(figsize = (25,8))\n",
        "sns.barplot(data = meanRevenueByMonth, x = \"Month\", y = \"Revenue\")\n",
        "plt.title(\"Monthly Mean of Revenue\", fontsize = 14)\n",
        "plt.show()"
      ],
      "metadata": {
        "id": "VDZG6fDapTit"
      },
      "execution_count": null,
      "outputs": []
    },
    {
      "cell_type": "code",
      "source": [
        "# Create a dataframe contaning CustomerID and first purchase order date\n",
        "df_min_purchase_order = df_uk.groupby(\"CustomerID\").InvoiceDate.min().reset_index()\n",
        "df_min_purchase_order.columns = ['CustomerID','MinPurchaseOrderDate']\n",
        "df_min_purchase_order[\"MinPurchaseOrderYearMonth\"] = df_min_purchase_order[\"MinPurchaseOrderDate\"].map(lambda x: str(x.year)+\"-\"+str(x.month))\n",
        "# Merge first purchase date column to our main dataframe (df_uk)\n",
        "df_uk = pd.merge(df_uk, df_min_purchase_order, on='CustomerID')\n",
        "df_uk.head()"
      ],
      "metadata": {
        "id": "9OifrAgvpTlU"
      },
      "execution_count": null,
      "outputs": []
    },
    {
      "cell_type": "code",
      "source": [
        "# Existing Customer or New Customer?\n",
        "df_uk['UserType'] = 'New'\n",
        "df_uk.loc[df_uk['InvoiceYearMonth']>df_uk['MinPurchaseOrderYearMonth'],'UserType'] = \"Existing\"\n",
        "df_uk_user_type_revenue = df_uk.groupby(['InvoiceYearMonth','MinPurchaseOrderYearMonth','UserType'])['Revenue'].sum().reset_index()\n",
        "df_uk_user_type_revenue"
      ],
      "metadata": {
        "id": "5jJhVsP7u2zk"
      },
      "execution_count": null,
      "outputs": []
    },
    {
      "cell_type": "code",
      "source": [
        "existingCustomerDf = df_uk_user_type_revenue.loc[df_uk_user_type_revenue.UserType == \"Existing\"]\n",
        "newCustomerDf = df_uk_user_type_revenue.loc[df_uk_user_type_revenue.UserType == \"New\"]\n",
        "plt.figure(figsize = (25,8), dpi=80)\n",
        "sns.lineplot(data = newCustomerDf.query(\"InvoiceYearMonth != '2010-12' and InvoiceYearMonth != '2011-12'\"),\n",
        "         x = \"InvoiceYearMonth\",\n",
        "         y = \"Revenue\",\n",
        "         color = \"black\", label = \"New\")\n",
        "sns.lineplot(data = existingCustomerDf.query(\"InvoiceYearMonth != '2010-12' and InvoiceYearMonth != '2011-12'\"),\n",
        "         x = \"InvoiceYearMonth\",\n",
        "         y = \"Revenue\",\n",
        "         color = \"red\", label = \"Existing\")\n",
        "plt.title(\"New Customer or Existing Customer\")\n",
        "plt.legend()\n",
        "plt.show()"
      ],
      "metadata": {
        "id": "7K9kMC5Ku8Ly"
      },
      "execution_count": null,
      "outputs": []
    },
    {
      "cell_type": "code",
      "source": [
        "df_uk_user_ratio = df_uk.query(\"UserType == 'New'\").groupby([\"InvoiceYearMonth\"])[\"CustomerID\"].nunique()/df_uk.query(\"UserType == 'Existing'\").groupby(['InvoiceYearMonth'])['CustomerID'].nunique() \n",
        "df_uk_user_ratio = df_uk_user_ratio.reset_index()\n",
        "df_uk_user_ratio = df_uk_user_ratio.dropna()\n",
        "df_uk_user_ratio"
      ],
      "metadata": {
        "id": "TfzdXbMwu26H"
      },
      "execution_count": null,
      "outputs": []
    },
    {
      "cell_type": "code",
      "source": [
        "plt.figure(figsize=(15,6), dpi = 80)\n",
        "sns.barplot(data = df_uk_user_ratio.query(\"InvoiceYearMonth > '2011-11'\").sort_values(\"InvoiceYearMonth\", ascending=True),\n",
        "            x = \"InvoiceYearMonth\",\n",
        "            y = \"CustomerID\")\n",
        "plt.title(\"New Customer Ratio of UK\")\n",
        "plt.show()"
      ],
      "metadata": {
        "id": "NhbPGGZc3H8A"
      },
      "execution_count": null,
      "outputs": []
    },
    {
      "cell_type": "markdown",
      "source": [
        "**The rate of new customers in the UK decreased from month to month**"
      ],
      "metadata": {
        "id": "FzXc0T1s_nD8"
      }
    },
    {
      "cell_type": "code",
      "source": [
        "# Users(CustomerID) who are active by looking at their monthly revenue\n",
        "df_user_purchase_order = df_uk.groupby([\"CustomerID\", \"InvoiceYearMonth\"])[\"Revenue\"].sum().reset_index()\n",
        "df_user_purchase_order"
      ],
      "metadata": {
        "id": "RjhjnVKUpTwr"
      },
      "execution_count": null,
      "outputs": []
    },
    {
      "cell_type": "code",
      "source": [
        "plt.figure(figsize = (25,6), dpi=80)\n",
        "sns.barplot(data = df_uk.groupby([\"CustomerID\"])[\"Revenue\"].sum().reset_index().sort_values(\"Revenue\", ascending=False).head(20),\n",
        "            x = \"CustomerID\", y = \"Revenue\")\n",
        "plt.title(\"Top 20 Customers with Highest Revenue by Customer ID\")\n",
        "plt.show()"
      ],
      "metadata": {
        "id": "hARR1sZ_mmXu"
      },
      "execution_count": null,
      "outputs": []
    },
    {
      "cell_type": "markdown",
      "source": [
        "# RFM(Recency, Frequency, Monetary) Analysis"
      ],
      "metadata": {
        "id": "BQ-XZ4DMCr_4"
      }
    },
    {
      "cell_type": "code",
      "source": [
        "df = pd.read_csv(\"/content/drive/MyDrive/RFM/datas/OnlineRetail.csv\",encoding= 'unicode_escape')\n",
        "df = df.drop_duplicates()\n",
        "df = df.dropna(subset=['CustomerID'])\n",
        "df[\"InvoiceDate\"] = pd.to_datetime(df[\"InvoiceDate\"])\n",
        "df = df.loc[df.Quantity > 0]\n",
        "df = df.loc[df.UnitPrice > 0]\n",
        "df[\"Revenue\"] = df[\"Quantity\"]*df[\"UnitPrice\"]\n",
        "df.head()"
      ],
      "metadata": {
        "id": "vQBO401Tvfqo"
      },
      "execution_count": null,
      "outputs": []
    },
    {
      "cell_type": "code",
      "source": [
        "max_date = df.InvoiceDate.max()\n",
        "max_date"
      ],
      "metadata": {
        "id": "4rqiO9XkxUa-"
      },
      "execution_count": null,
      "outputs": []
    },
    {
      "cell_type": "code",
      "source": [
        "now = dt.datetime(2011,12,10)"
      ],
      "metadata": {
        "id": "jrd6AZY31O6_"
      },
      "execution_count": null,
      "outputs": []
    },
    {
      "cell_type": "code",
      "source": [
        "now.day"
      ],
      "metadata": {
        "id": "vK_h1WvY5fYr"
      },
      "execution_count": null,
      "outputs": []
    },
    {
      "cell_type": "code",
      "source": [
        "rfmTable = df.groupby(\"CustomerID\").agg({\"InvoiceDate\":lambda x: (now - x.max()).days, \n",
        "                              \"Revenue\": lambda x: x.sum(),\n",
        "                              \"InvoiceNo\": lambda x: len(x)})\n",
        "rfmTable[\"InvoiceDate\"] = rfmTable[\"InvoiceDate\"].astype(int)\n",
        "rfmTable.rename(columns = {\"InvoiceDate\":\"Recency\",\n",
        "                           \"Revenue\":\"Monetary\",\n",
        "                           \"InvoiceNo\":\"Frequency\"}, inplace = True)\n",
        "rfmTable"
      ],
      "metadata": {
        "id": "YIigsFtu1ge0"
      },
      "execution_count": null,
      "outputs": []
    },
    {
      "cell_type": "code",
      "source": [
        "rfmTable.sort_values(\"Monetary\", ascending=False)"
      ],
      "metadata": {
        "id": "TfpQk_b41PDt"
      },
      "execution_count": null,
      "outputs": []
    },
    {
      "cell_type": "code",
      "source": [
        "quantiles = rfmTable.quantile(q = [0.2,0.4,0.6, 0.8])\n",
        "quantiles = quantiles.to_dict()\n",
        "quantiles"
      ],
      "metadata": {
        "id": "fHsGUNvIDpXm"
      },
      "execution_count": null,
      "outputs": []
    },
    {
      "cell_type": "code",
      "source": [
        "def RScore(x, p, d):\n",
        "  if x <= d[p][0.2]:\n",
        "    return 5\n",
        "  elif x <= d[p][0.4]:\n",
        "    return 4\n",
        "  elif x <= d[p][0.6]:\n",
        "    return 3\n",
        "  elif x <= d[p][0.8]:\n",
        "    return 2\n",
        "  else:\n",
        "    return 1\n",
        "def FScore(x, p, d):\n",
        "  if x <= d[p][0.2]:\n",
        "    return 1\n",
        "  elif x <= d[p][0.4]:\n",
        "    return 2 \n",
        "  elif x <= d[p][0.6]:\n",
        "    return 3\n",
        "  elif x <= d[p][0.8]:\n",
        "    return 4\n",
        "  else:\n",
        "    return 5"
      ],
      "metadata": {
        "id": "vWvVICXEzIxx"
      },
      "execution_count": null,
      "outputs": []
    },
    {
      "cell_type": "code",
      "source": [
        "rfmTable[\"R\"] = rfmTable['Recency'].apply(RScore, args=('Recency',quantiles,))\n",
        "rfmTable[\"M\"] = rfmTable['Monetary'].apply(FScore, args=('Monetary',quantiles,))\n",
        "rfmTable[\"F\"] = rfmTable['Frequency'].apply(FScore, args=('Frequency',quantiles,))\n",
        "rfmTable[\"RFM_Score\"] = rfmTable[\"R\"].map(str)+rfmTable[\"F\"].map(str)+rfmTable[\"M\"].map(str)\n",
        "rfmTable"
      ],
      "metadata": {
        "id": "v9FJP70d-Ut6"
      },
      "execution_count": null,
      "outputs": []
    },
    {
      "cell_type": "code",
      "source": [
        "# Best 5 Customer based on RFMScore\n",
        "rfmTable.loc[rfmTable.RFM_Score == \"555\"].sort_values([\"Monetary\",\"Frequency\"], ascending = False).head()"
      ],
      "metadata": {
        "id": "VU86TBdD-olt"
      },
      "execution_count": null,
      "outputs": []
    },
    {
      "cell_type": "code",
      "source": [
        "# Worst 5 Customer based on RFMScore\n",
        "rfmTable.loc[rfmTable.RFM_Score == \"111\"].sort_values([\"Monetary\",\"Frequency\"], ascending = True).head()"
      ],
      "metadata": {
        "id": "M4o35BEt_5DM"
      },
      "execution_count": null,
      "outputs": []
    },
    {
      "cell_type": "code",
      "source": [
        "rfmTable.info()"
      ],
      "metadata": {
        "id": "3zo_tCvIU6y3"
      },
      "execution_count": null,
      "outputs": []
    },
    {
      "cell_type": "code",
      "source": [
        "df.loc[df.CustomerID == 14646.0]"
      ],
      "metadata": {
        "id": "2Zql7lqgCqgj"
      },
      "execution_count": null,
      "outputs": []
    },
    {
      "cell_type": "code",
      "source": [
        "# Recency, Monetary, Frequency of their density visualization\n",
        "fig, axes = plt.subplots(nrows=1, ncols=3, figsize=(25,5))\n",
        "fig.suptitle(\"RFM Table\")\n",
        "sns.distplot(rfmTable.Recency, ax = axes[0]).set_title(\"Recency\")\n",
        "sns.distplot(rfmTable.Monetary, ax = axes[1]).set_title(\"Monetary\")\n",
        "sns.distplot(rfmTable.Frequency, ax = axes[2]).set_title(\"Frequency\")"
      ],
      "metadata": {
        "id": "kQOq4B2VKLqa"
      },
      "execution_count": null,
      "outputs": []
    },
    {
      "cell_type": "code",
      "source": [
        "seg_map = {\n",
        "    r'[1-2][1-2]': 'Hibernating',\n",
        "    r'[1-2][3-4]': 'At Risk',\n",
        "    r'[1-2]5': 'Can\\'t Loose',\n",
        "    r'3[1-2]': 'About to Sleep',\n",
        "    r'33': 'Need Attention',\n",
        "    r'[3-4][4-5]': 'Loyal Customers',\n",
        "    r'41': 'Promising',\n",
        "    r'51': 'New Customers',\n",
        "    r'[4-5][2-3]': 'Potential Loyalists',\n",
        "    r'5[4-5]': 'Champions'\n",
        "}\n",
        "rfmTable['Segment'] = rfmTable['R'].astype(str) + rfmTable['F'].astype(str)\n",
        "rfmTable['Segment'] = rfmTable['Segment'].replace(seg_map, regex=True)\n",
        "rfmTable.head()"
      ],
      "metadata": {
        "id": "ev5Xeut5KLt1"
      },
      "execution_count": null,
      "outputs": []
    },
    {
      "cell_type": "code",
      "source": [
        "rfmTable.groupby('Segment').mean().sort_values('Monetary')"
      ],
      "metadata": {
        "id": "CiGYTh2CKLxL"
      },
      "execution_count": null,
      "outputs": []
    },
    {
      "cell_type": "code",
      "source": [
        "pd.DataFrame(rfmTable.Segment.value_counts()).reset_index()"
      ],
      "metadata": {
        "id": "PAMy031jW0QK"
      },
      "execution_count": null,
      "outputs": []
    },
    {
      "cell_type": "code",
      "source": [
        "segmentDf = pd.DataFrame(rfmTable.Segment.value_counts()).reset_index()\n",
        "plt.figure(figsize = (15,6), dpi = 80)\n",
        "sns.barplot(data = segmentDf, x=\"index\", y=\"Segment\")\n",
        "plt.xticks(rotation=60)\n",
        "plt.title(\"Segment Customers\")\n",
        "plt.show()"
      ],
      "metadata": {
        "id": "kBPKGVYJNm1H"
      },
      "execution_count": null,
      "outputs": []
    },
    {
      "cell_type": "code",
      "source": [
        "rfmTable.reset_index().to_csv(\"/content/drive/MyDrive/RFM/datas/rfmData.csv\", index = False)"
      ],
      "metadata": {
        "id": "cApUMAncJx2_"
      },
      "execution_count": null,
      "outputs": []
    },
    {
      "cell_type": "code",
      "source": [
        "rfmTable = pd.read_csv(\"/content/drive/MyDrive/RFM/datas/rfmData.csv\")\n",
        "rfmTable.head()"
      ],
      "metadata": {
        "id": "AxYle20CYdB4"
      },
      "execution_count": null,
      "outputs": []
    },
    {
      "cell_type": "markdown",
      "source": [
        "**KMEANS CLUSTERING**"
      ],
      "metadata": {
        "id": "FF7LQuVhZEqH"
      }
    },
    {
      "cell_type": "code",
      "source": [
        "!pip install fpgrowth\n",
        "%pip install mlxtend --upgrade"
      ],
      "metadata": {
        "id": "YMegOsoLZB58"
      },
      "execution_count": null,
      "outputs": []
    },
    {
      "cell_type": "code",
      "source": [
        "import datetime as dt\n",
        "from sklearn.preprocessing import MinMaxScaler\n",
        "from sklearn.cluster import KMeans\n",
        "from sklearn.metrics import silhouette_score\n",
        "from mlxtend.frequent_patterns import apriori\n",
        "from mlxtend.frequent_patterns import association_rules\n",
        "from mlxtend.frequent_patterns import fpgrowth "
      ],
      "metadata": {
        "id": "Lv0zUYqJY6zt"
      },
      "execution_count": null,
      "outputs": []
    },
    {
      "cell_type": "code",
      "source": [
        "# I have normalized(between 0-1) the values (in order not to distort the distance calculations)\n",
        "clusDataFrame = rfmTable[[\"Recency\",\"Monetary\",\"Frequency\"]]\n",
        "min_max_scaler = MinMaxScaler()\n",
        "clusterData = min_max_scaler.fit_transform(clusDataFrame)\n",
        "clusterData = pd.DataFrame(clusterData)\n",
        "clusterData.columns = [\"Recency\",\"Monetary\",\"Frequency\"]\n",
        "print(clusterData.describe())"
      ],
      "metadata": {
        "id": "BOSixnsrYdET"
      },
      "execution_count": null,
      "outputs": []
    },
    {
      "cell_type": "code",
      "source": [
        "# Determining the best cluster value for the KMeans Algorithm\n",
        "# Inertia: Bir küme içindeki noktaların ne kadar uzakta oldugunu söyler. Bu nedenle küçük bir inertia hedeflenir.Inertia degeri sıfırdan başlar ve artar.\n",
        "wcss = []\n",
        "for i in range(1,11):\n",
        "    kmeans = KMeans(n_clusters=i, init = \"k-means++\", n_init=10, max_iter=100)\n",
        "    kmeans.fit(clusterData)\n",
        "    wcss.append(kmeans.inertia_)\n",
        "plt.figure(figsize=(10,5))\n",
        "plt.plot(range(1,11),wcss)\n",
        "plt.ylabel(\"WCSS\")\n",
        "plt.xlabel(\"N-Clusters\")\n",
        "plt.title(\"Number of Clusters\")\n",
        "plt.show()"
      ],
      "metadata": {
        "id": "ypU8QWarYdIi"
      },
      "execution_count": null,
      "outputs": []
    },
    {
      "cell_type": "code",
      "source": [
        "# silhouette_score => Bir kümedeki veri noktalarının, başka bir kümedeki veri noktalarından ne kadar uzakta olduğunu gösterir. 1' yakın olması iyi\n",
        "silhouette_score_list = []\n",
        "for i in range(2,10):\n",
        "    kmeans = KMeans(n_clusters=3, init=\"k-means++\", n_init=10, max_iter=100)\n",
        "    kmeans.fit(clusterData)\n",
        "    pred = kmeans.predict(clusterData)\n",
        "    silhouette_score_list.append(silhouette_score(clusterData,kmeans.labels_))\n",
        "    print(silhouette_score_list)"
      ],
      "metadata": {
        "id": "yCNEA-lTYdLd"
      },
      "execution_count": null,
      "outputs": []
    },
    {
      "cell_type": "code",
      "source": [
        "clusDataFrame.cluster.unique()"
      ],
      "metadata": {
        "id": "ZaUjFnIWor9L"
      },
      "execution_count": null,
      "outputs": []
    },
    {
      "cell_type": "code",
      "source": [
        "clusDataFrame[\"cluster\"] = pred\n",
        "clusDataFrame"
      ],
      "metadata": {
        "id": "th2zB-pkp7M_"
      },
      "execution_count": null,
      "outputs": []
    },
    {
      "cell_type": "code",
      "source": [
        "clusDataFrame.loc[clusDataFrame.cluster == 1]"
      ],
      "metadata": {
        "id": "TqfTQx43raXQ"
      },
      "execution_count": null,
      "outputs": []
    },
    {
      "cell_type": "code",
      "source": [
        "clusDataFrame.loc[clusDataFrame.cluster == 2]"
      ],
      "metadata": {
        "id": "-IdDRnCUriuC"
      },
      "execution_count": null,
      "outputs": []
    },
    {
      "cell_type": "code",
      "source": [
        "clusDataFrame.cluster.value_counts()"
      ],
      "metadata": {
        "id": "2kPtTET7qIF8"
      },
      "execution_count": null,
      "outputs": []
    },
    {
      "cell_type": "code",
      "source": [
        "plt.figure(figsize=(10,5))\n",
        "cluster_counts = clusDataFrame.cluster.value_counts()\n",
        "cluster_counts.index = [\"Best Customer\",\"Normal Customer\",\"Worst Customer\"]\n",
        "plt.bar(cluster_counts.index, cluster_counts.values)\n",
        "plt.xlabel('Cluster')\n",
        "plt.ylabel('Count')\n",
        "plt.title('Cluster Counts')\n",
        "plt.show()"
      ],
      "metadata": {
        "id": "TfV9osjfYdOB"
      },
      "execution_count": null,
      "outputs": []
    },
    {
      "cell_type": "code",
      "source": [
        "print(clusDataFrame.groupby(\"cluster\").mean())"
      ],
      "metadata": {
        "id": "uk3LJIobYdQx"
      },
      "execution_count": null,
      "outputs": []
    },
    {
      "cell_type": "code",
      "source": [],
      "metadata": {
        "id": "7bD6V_BuokBw"
      },
      "execution_count": null,
      "outputs": []
    },
    {
      "cell_type": "markdown",
      "source": [
        "**Association Rules(Sepet Birliktelik Analizi)**"
      ],
      "metadata": {
        "id": "XDw7NNtMafy2"
      }
    },
    {
      "cell_type": "code",
      "source": [
        "df.head()"
      ],
      "metadata": {
        "id": "i96fX5vwYdVP"
      },
      "execution_count": null,
      "outputs": []
    },
    {
      "cell_type": "code",
      "source": [
        "df.Description.nunique()"
      ],
      "metadata": {
        "id": "cmT_zHgsmOoY"
      },
      "execution_count": null,
      "outputs": []
    },
    {
      "cell_type": "code",
      "source": [
        "# Association Rules between two product\n",
        "data_apriori = df.groupby([\"InvoiceNo\",\"Description\"])[\"Quantity\"].sum().unstack().reset_index().fillna(0).set_index(\"InvoiceNo\")\n",
        "def num(x):\n",
        "    if x <= 0:\n",
        "        return 0\n",
        "    elif x >= 1:\n",
        "        return 1"
      ],
      "metadata": {
        "id": "TVTORkZTbMlz"
      },
      "execution_count": null,
      "outputs": []
    },
    {
      "cell_type": "code",
      "source": [
        "basket = data_apriori.applymap(num)\n",
        "basket"
      ],
      "metadata": {
        "id": "81dC1a4vbMpC"
      },
      "execution_count": null,
      "outputs": []
    },
    {
      "cell_type": "code",
      "source": [
        "!pip uninstall mlxtend\n",
        "!pip install git+git://github.com/rasbt/mlxtend.git"
      ],
      "metadata": {
        "id": "23IHtJtveHvl"
      },
      "execution_count": null,
      "outputs": []
    },
    {
      "cell_type": "code",
      "source": [
        "from mlxtend.frequent_patterns.fpgrowth import fpgrowth\n",
        "\n",
        "# 1.WAY\n",
        "rule_fp = fpgrowth(basket, min_support=0.02, use_colnames = True)\n",
        "print(rule_fp)"
      ],
      "metadata": {
        "id": "E_0jMAMBbMrx"
      },
      "execution_count": null,
      "outputs": []
    },
    {
      "cell_type": "markdown",
      "source": [
        "![ASSOCIATION-RULES.png](data:image/png;base64,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)"
      ],
      "metadata": {
        "id": "n2bW4E0Dmua3"
      }
    },
    {
      "cell_type": "code",
      "source": [
        "# product association decisions results\n",
        "rule_fp_associ = association_rules(rule_fp, metric = \"confidence\", min_threshold=0.4) \n",
        "rule_fp_associ.sort_values(\"confidence\",ascending=False).head()"
      ],
      "metadata": {
        "id": "ZM4EcIHdgsFF"
      },
      "execution_count": null,
      "outputs": []
    },
    {
      "cell_type": "markdown",
      "source": [
        "## For example: (PINK REGENCY TEACUP AND SAUCER, ROSES REGENCY...)\t(GREEN REGENCY TEACUP AND SAUCER)\t\n",
        "- antecedents: percentage of presence in all products: 0.023527\t\n",
        "- consequent: percentage of presence in all products: 0.037287\t\n",
        "If we make an evaluation for these two products;\n",
        "- Percentages of coexistence in all products: 0.021045\t (support) //  Support = Freq(A,B)/N\n",
        "- The probability of these two products being together: 0.894495 (confidence) // Confidence = Freq(A,B)/Freq(A)\n",
        "- Percentage of product consequents in products containing product antecedents: (0.021045)/(0.023527*0.037287) = 23.989564\t  (lift)"
      ],
      "metadata": {
        "id": "9JEmaF7bhlHt"
      }
    },
    {
      "cell_type": "code",
      "source": [
        "# products that are found together in 40 percent and more\n",
        "apriori_items = apriori(basket, min_support=0.02, use_colnames=True)\n",
        "rule_apriori = association_rules(apriori_items, metric = \"confidence\", min_threshold=0.4) \n",
        "rule_apriori.sort_values(\"confidence\",ascending=False).head()"
      ],
      "metadata": {
        "id": "luWUIb4fbMuf"
      },
      "execution_count": null,
      "outputs": []
    },
    {
      "cell_type": "code",
      "source": [
        "rule_fp_associ.to_csv(\"/content/drive/MyDrive/RFM/datas/rule_fp_associ.csv\", index = False)\n",
        "rule_apriori.to_csv(\"/content/drive/MyDrive/RFM/datas/rule_apriori.csv\", index = False)"
      ],
      "metadata": {
        "id": "QJQl92QZls1t"
      },
      "execution_count": null,
      "outputs": []
    },
    {
      "cell_type": "markdown",
      "source": [
        "# COHORT ANALYSIS"
      ],
      "metadata": {
        "id": "K22hCL2OD42G"
      }
    },
    {
      "cell_type": "code",
      "source": [
        "def get_month(x):\n",
        "  return dt.datetime(x.year, x.month, 1)\n",
        "df[\"InvoiceMonth\"] = df[\"InvoiceDate\"].apply(get_month)\n",
        "grouping = df.groupby('CustomerID')['InvoiceMonth']\n",
        "df['CohortMonth'] = grouping.transform('min')\n",
        "df.head()"
      ],
      "metadata": {
        "id": "QHemHtthDyRi"
      },
      "execution_count": null,
      "outputs": []
    },
    {
      "cell_type": "code",
      "source": [
        "def get_date_int(df, column):\n",
        "    year = df[column].dt.year\n",
        "    month = df[column].dt.month\n",
        "    day = df[column].dt.day\n",
        "    return year, month, day\n",
        "invoice_year, invoice_month, _ = get_date_int(df, 'InvoiceMonth')\n",
        "cohort_year, cohort_month, _ = get_date_int(df, 'CohortMonth')"
      ],
      "metadata": {
        "id": "xZZzxWWSEU12"
      },
      "execution_count": null,
      "outputs": []
    },
    {
      "cell_type": "code",
      "source": [
        "years_diff = invoice_year - cohort_year\n",
        "months_diff = invoice_month - cohort_month"
      ],
      "metadata": {
        "id": "ujdevtIAFWt6"
      },
      "execution_count": null,
      "outputs": []
    },
    {
      "cell_type": "code",
      "source": [
        "df['CohortIndex'] = years_diff * 12 + months_diff + 1\n",
        "df.head()"
      ],
      "metadata": {
        "id": "UDvCgrWVFXMp"
      },
      "execution_count": null,
      "outputs": []
    },
    {
      "cell_type": "code",
      "source": [
        "df.tail()"
      ],
      "metadata": {
        "id": "3UpCn9FsFlkz"
      },
      "execution_count": null,
      "outputs": []
    },
    {
      "cell_type": "code",
      "source": [
        "grouping = df.groupby(['CohortMonth', 'CohortIndex'])\n",
        "cohort_data = grouping['CustomerID'].apply(pd.Series.nunique)\n",
        "cohort_data = cohort_data.reset_index()\n",
        "cohort_counts = cohort_data.pivot(index='CohortMonth', columns='CohortIndex', values='CustomerID')"
      ],
      "metadata": {
        "id": "B8CksUKTFnjO"
      },
      "execution_count": null,
      "outputs": []
    },
    {
      "cell_type": "code",
      "source": [
        "cohort_counts"
      ],
      "metadata": {
        "id": "-H2dF8rVGGeg"
      },
      "execution_count": null,
      "outputs": []
    },
    {
      "cell_type": "markdown",
      "source": [
        "**Retention Rate**"
      ],
      "metadata": {
        "id": "UEZLxPpCGLoD"
      }
    },
    {
      "cell_type": "code",
      "source": [
        "cohort_sizes = cohort_counts.iloc[:,0]\n",
        "retention = cohort_counts.divide(cohort_sizes, axis=0)\n",
        "retention.round(2) * 100"
      ],
      "metadata": {
        "id": "FuhD8d0zF5RT"
      },
      "execution_count": null,
      "outputs": []
    },
    {
      "cell_type": "code",
      "source": [
        "plt.figure(figsize=(15, 8))\n",
        "plt.title('Retention rates')\n",
        "sns.heatmap(data = retention,\n",
        "annot = True,\n",
        "fmt = '.0%',\n",
        "vmin = 0.0,\n",
        "vmax = 0.5,\n",
        "cmap = 'GnBu')\n",
        "plt.show()"
      ],
      "metadata": {
        "id": "jgjKWkE1GOn1"
      },
      "execution_count": null,
      "outputs": []
    },
    {
      "cell_type": "code",
      "source": [],
      "metadata": {
        "id": "ejyR3idLGSNv"
      },
      "execution_count": null,
      "outputs": []
    }
  ]
}